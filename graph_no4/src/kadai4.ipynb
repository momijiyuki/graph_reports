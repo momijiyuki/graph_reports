{
 "cells": [
  {
   "cell_type": "code",
   "execution_count": 92,
   "metadata": {},
   "outputs": [],
   "source": [
    "import util\n",
    "import numpy as np\n",
    "from pygsp import graphs\n",
    "import matplotlib.pyplot as plt"
   ]
  },
  {
   "cell_type": "code",
   "execution_count": 93,
   "metadata": {},
   "outputs": [],
   "source": [
    "npz_path = util.top_dir() / \"train\" / \"Japan_Kyoto.npz\"\n",
    "npz = np.load(npz_path)\n",
    "N, T, W, L, data, pos = (\n",
    "    npz[\"N\"],\n",
    "    npz[\"T\"],\n",
    "    npz[\"W\"],\n",
    "    npz[\"L\"],\n",
    "    npz[\"data\"],\n",
    "    npz[\"pos\"],\n",
    ")\n",
    "\n",
    "G = graphs.Graph(W)"
   ]
  },
  {
   "cell_type": "code",
   "execution_count": 94,
   "metadata": {},
   "outputs": [],
   "source": [
    "t = 0\n",
    "### Normalize data\n",
    "normilized_data = util.normalize_graph_signal(data[:, t])\n",
    "\n",
    "### Plot signal\n",
    "util.draw_graph(\n",
    "    G,\n",
    "    pos,\n",
    "    data[:, t],\n",
    "    image=\"normalized_signal(Japan_Kyoto,t=0).png\",\n",
    "    use_node_values=normilized_data,\n",
    "    fig_title=\"normalized_signal(Japan_Kyoto,t=0)\",\n",
    ")"
   ]
  },
  {
   "cell_type": "code",
   "execution_count": 95,
   "metadata": {},
   "outputs": [],
   "source": [
    "import os\n",
    "\n",
    "def plot_gft_spectrum(L, graph_signal, title, save_path):\n",
    "    # グラフラプラシアン行列の固有値と固有ベクトルを計算\n",
    "    eigenvalues, eigenvectors = np.linalg.eigh(L)\n",
    "\n",
    "    # グラフ信号とフーリエ基底の内積を計算\n",
    "    gft_coefficients = np.dot(eigenvectors.T, graph_signal)\n",
    "\n",
    "    # 結果をプロット\n",
    "    plt.figure(figsize=(8, 6))\n",
    "    plt.stem(eigenvalues, np.abs(gft_coefficients), use_line_collection=True)\n",
    "    plt.xlabel('Graph Frequencies (Eigenvalues)')\n",
    "    plt.ylabel('GFT Coefficients')\n",
    "    plt.title(f'GFT Spectrum({title})')\n",
    "    plt.grid(True)\n",
    "\n",
    "    # プロットを画像ファイルとして保存\n",
    "    plt.savefig(os.path.join(save_path, f'gft_spectrum_{title}.png'))\n",
    "\n",
    "    plt.close()\n",
    "\n",
    "# 使用例\n",
    "plot_gft_spectrum(L, normilized_data, 'Japan_Kyoto', '/workspaces/soturon-environment/workspace/Graph_Signal_Procesing/GSP-Traffic-Dataset/GSP_TRAFFIC_Python')"
   ]
  },
  {
   "cell_type": "code",
   "execution_count": 96,
   "metadata": {},
   "outputs": [],
   "source": [
    "# f = util.apply_gft_to_signal(G, normilized_data)\n",
    "# util.save_gs_spectrum(\n",
    "#     f, save_image_name=\"spectrum(Japan_Kyoto).png\", fig_title=\"spectrum(Japan_Kyoto)\"\n",
    "# )"
   ]
  },
  {
   "cell_type": "code",
   "execution_count": 97,
   "metadata": {},
   "outputs": [],
   "source": [
    "eigvals, eigvecs = np.linalg.eigh(L)\n",
    "\n",
    "# 固有ベクトルのインデックスを指定\n",
    "eigenvector_indices = [0, 1, 2, 3, 4]  # u1, u2, u3, u4, u5\n",
    "\n",
    "for idx in eigenvector_indices:\n",
    "    eigenvector = eigvecs[:, idx]\n",
    "    # 固有ベクトルを正規化\n",
    "    # 値が小さいと点が表示されないので1を足す\n",
    "    normalized_eigenvector = (eigenvector - np.min(eigenvector)) / (np.max(eigenvector) - np.min(eigenvector)) + 1\n",
    "\n",
    "    # 固有ベクトルを頂点領域のグラフ信号としてプロット\n",
    "    util.draw_graph(\n",
    "        G, pos, normalized_eigenvector,\n",
    "        image=f\"u{idx +1}(Japan_Kyoto).png\",\n",
    "        fig_title=f\"u{idx +1}(Japan_Kyoto)\"\n",
    "    )"
   ]
  }
 ],
 "metadata": {
  "kernelspec": {
   "display_name": "Python 3",
   "language": "python",
   "name": "python3"
  },
  "language_info": {
   "codemirror_mode": {
    "name": "ipython",
    "version": 3
   },
   "file_extension": ".py",
   "mimetype": "text/x-python",
   "name": "python",
   "nbconvert_exporter": "python",
   "pygments_lexer": "ipython3",
   "version": "3.7.17"
  }
 },
 "nbformat": 4,
 "nbformat_minor": 2
}
